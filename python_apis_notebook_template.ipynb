
Open In Colab
Web APIs in Python (EoC)
Student name: Enter your name here (double click to edit)

Net ID: Enter your NetID here (double click to edit)

Lab Notebook Questions
Q1: What are we seeing in the browser or in this sample JSON? Some of the specific fields (or name-value pairs)? What do we think this data might look like when we bring it into Python, or what are some things we could do with this data in Python?
Answer Q1: Your answer here (double click to edit)


# space for Q1 code (if needed, double click to edit)
     
Q2: Describe how a web API works in your own words.
Answer Q2: Your answer here (double click to edit)


# space for Q2 code (if needed, double click to edit)
     
Q3: Build code + comments that accomplish the following tasks:
Modify the GitHub search result URL and write an API call from Python
A few options here- you could search by topics and change the parameters for creation date, number of results, etc.
Sample code for this task is included in the previous section of the lab.
Select a single repository from the API return
Sample code for this task is included in the previous section of the lab.
Write the API return to a JSON file
Sample code for this task is included in the previous section of the lab.
Answer Q3: Space for Q3 narrative answer, if needed (double click to edit)


# space for Q3 code (double click to edit)

# part a: API call

# part b: select single repository

# part c: write API return to JSON file
     
Q4: Describe your experience working with the Census Bureau API. What was rewarding? What was challenging? How did you solve those challenges? What do we think this data might look like when we bring it into Python, or what are some things we could do with this data in Python
Answer Q4: Your answer here (double click to edit)


# space for Q4 code (if needed, double click to edit)
     
OPTIONAL: Modify the API call to access another subset of data. Include code + comments.
Q5: Select a specific dataset available via an API.
A few sources that might get you started:

GitHub repository with extensive inventory of free public APIs
U.S. National Archives and Records Administration, NARA
Smithsonian Institution
Library of Congress
U.S. Census Bureau
The Sports DB
View the API source in a browser. What are you seeing? How can we start to make sense of this data using available documentation?

Answer Q5: Your answer here (double click to edit)


# space for Q5 code (if needed, double click to edit)
     
Q6: Construct an API call in Python. Include code + comments.
Answer Q6: Space for Q6 narrative answer, if needed (double click to edit)


# space for Q6 code (double click to edit)
     
Q7: Take a subset of the data and write to a JSON file. Include code + comments.
Answer Q7: Space for Q7 narrative answer, if needed (double click to edit)


# space for Q7 code (double click to edit)
     
OPTIONAL: JSON's nested structure can't always be mapped onto a tabular (table-like) data structure. But pandas does include a pd.read_json function if you want to experiment with creating a DataFrame from JSON data.
pandas documentation for pd.read_json
alternate method that converts JSON to dictionary and uses pd.DataFrame.from_dict() method
